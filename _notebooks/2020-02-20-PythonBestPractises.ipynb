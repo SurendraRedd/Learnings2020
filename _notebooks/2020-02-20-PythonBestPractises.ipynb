{
 "cells": [
  {
   "cell_type": "markdown",
   "metadata": {},
   "source": [
    "## Best Practise 1 → Using enumerate() - Fetch elements from list"
   ]
  },
  {
   "cell_type": "code",
   "execution_count": null,
   "metadata": {},
   "outputs": [],
   "source": [
    "# List Variable\n",
    "example = ['use','enumerate','instead','of','iteration']\n",
    "\n",
    "# Ideal Way\n",
    "for i in range(len(example)):\n",
    "    print(f\"# {i + 1}: {example[i]}\")\n",
    "          \n",
    "# Pythonic way - enumerate\n",
    "for i, value in enumerate(example, 1):\n",
    "    print(f\"# {i}: {value}\")"
   ]
  },
  {
   "cell_type": "markdown",
   "metadata": {},
   "source": [
    "## Best Practise 2 → Using zip() - Fetch elements from multiple lists"
   ]
  },
  {
   "cell_type": "code",
   "execution_count": null,
   "metadata": {},
   "outputs": [],
   "source": [
    "# Lists \n",
    "Employees = ['Employee1','Employee2','Employee3','Employee4']\n",
    "Age = [30,25,35,40]\n",
    "\n",
    "# Ideal Way\n",
    "for i in range(len(Employees)):\n",
    "    employee = Employees[i]\n",
    "    age = Age[i]\n",
    "    print(f\"Employee name is {employee} and age is {age}\")\n",
    "    \n",
    "# Pythonic way - zip\n",
    "for employee, age in zip(Employees, Age):\n",
    "    print(f\"Employee name is {employee} and age is {age}\")"
   ]
  },
  {
   "cell_type": "markdown",
   "metadata": {},
   "source": [
    "## Best Practise 3 → Using reversed() - Fetch elements reversly"
   ]
  },
  {
   "cell_type": "code",
   "execution_count": null,
   "metadata": {},
   "outputs": [],
   "source": [
    "# Lists \n",
    "Employees = ['Employee1','Employee2','Employee3','Employee4']\n",
    "\n",
    "# Ideal way\n",
    "for i in range(1,len(Employees) + 1):\n",
    "    print(f\"Approach 1 - Employee came to office after covid 19 is {Employees[-i]}\")\n",
    "for employee in Employees[::-1]:\n",
    "    print(f\"Approach 2 - Employee came to office after covid 19 is {employee}\")\n",
    "    \n",
    "# Pythonic way - reversed()\n",
    "for employee in reversed(Employees):\n",
    "    print(f\"Using revered -  Employee came to office after covid 19 is {employee}\")"
   ]
  },
  {
   "cell_type": "markdown",
   "metadata": {},
   "source": [
    "## Best Practise 4 → Using filter() - Data Filtering"
   ]
  },
  {
   "cell_type": "code",
   "execution_count": null,
   "metadata": {},
   "outputs": [],
   "source": [
    "# List\n",
    "numbers = [1,2,3,4,5,6,7,8,9,10]\n",
    "\n",
    "#Ideal way\n",
    "for number in numbers:\n",
    "    if number % 2:\n",
    "        print(f\"Odd Number : {number}\")\n",
    "\n",
    "# Pythonic way - filter()\n",
    "for number in filter(lambda x: x %2, numbers):\n",
    "    print(f\"Odd Number : {number}\")             "
   ]
  },
  {
   "cell_type": "markdown",
   "metadata": {},
   "source": [
    "## Best Practise 5 → Using Chain() - Concatenate values from lists"
   ]
  },
  {
   "cell_type": "code",
   "execution_count": null,
   "metadata": {},
   "outputs": [],
   "source": [
    "from itertools import chain\n",
    "\n",
    "#Lists\n",
    "oddValues = [1,3,5,7,9]\n",
    "evenValues = [2,4,6,8,10]\n",
    "\n",
    "# Ideal way\n",
    "values = oddValues + evenValues\n",
    "for value in values:\n",
    "    print(f\"value is : {value}\")\n",
    "\n",
    "# Pythonic way - chain()\n",
    "for value in chain(oddValues, evenValues):\n",
    "    print(f\"value is : {value}\")"
   ]
  },
  {
   "cell_type": "markdown",
   "metadata": {},
   "source": [
    "## Best Practise 6 → Using Dictionaries() - Retrieve keys & values from dictionary"
   ]
  },
  {
   "cell_type": "code",
   "execution_count": null,
   "metadata": {},
   "outputs": [],
   "source": [
    "# Dict\n",
    "Employees = {\"Employee1\": 30, \"Employee2\": 35, \"Employee3\": 40, \"Employee4\": 45}\n",
    "\n",
    "#Ideal way\n",
    "for key in Employees:\n",
    "    print(f\"Employee Name is : {key}\")\n",
    "for key in Employees.keys():\n",
    "    print(f\"Employee Name is : {key}\")\n",
    "for value in Employees.values():\n",
    "    print(f\"Age is : {value}\")\n",
    "for value in Employees:\n",
    "    print(f\"Age is : {Employees[value]}\")\n",
    "    \n",
    "#Pythonic way\n",
    "for key, value in Employees.items():\n",
    "    print(f\"Employee came to office after covid 19 is {key} and age is {value}\")\n",
    "    "
   ]
  },
  {
   "cell_type": "markdown",
   "metadata": {},
   "source": [
    "# Best Practise 7 → Using Comprehension() - Comprehensions for lists, dictionaries & set"
   ]
  },
  {
   "cell_type": "code",
   "execution_count": null,
   "metadata": {},
   "outputs": [],
   "source": [
    "### list\n",
    "numbers = [1,2,3,4,5,6,7,8,9,10]\n",
    "\n",
    "#Ideal way\n",
    "squaredNumbers = list()\n",
    "for square in numbers:\n",
    "    squaredNumbers.append(square * square)\n",
    "print(squaredNumbers)\n",
    "\n",
    "#Using list comprehension\n",
    "squaredNumbers = [x * x for x in numbers]\n",
    "print(squaredNumbers)\n",
    "\n",
    "#Ideal way\n",
    "squaredNumbers = dict()\n",
    "for square in numbers:\n",
    "    squaredNumbers[square] = square * square\n",
    "    \n",
    "#Using list comprehension\n",
    "squaredNumbers = {x: x*x for x in numbers}\n",
    "print(squaredNumbers)\n",
    "\n",
    "#Ideal way\n",
    "squaredNumbers = set()\n",
    "for square in numbers:\n",
    "    squaredNumbers.add(square)\n",
    "print(squaredNumbers)\n",
    "\n",
    "#Using list comprehension\n",
    "squaredNumbers = [x*x for x in numbers]\n",
    "print(squaredNumbers)    "
   ]
  },
  {
   "cell_type": "markdown",
   "metadata": {},
   "source": [
    "### Best Practise 8 → Using else clause - For and While Loops"
   ]
  },
  {
   "cell_type": "code",
   "execution_count": null,
   "metadata": {},
   "outputs": [],
   "source": [
    "# For Loop\n",
    "for n in range(2, 10):\n",
    "    for x in range(2, n):\n",
    "        if n % x == 0:\n",
    "            print( n, 'equals', x, '*', n/x)\n",
    "            break\n",
    "    else:\n",
    "        # loop fell through without finding a factor\n",
    "        print(n, 'is a prime number')\n",
    "\n",
    "# While Loop\n",
    "count = 2\n",
    "while (count < 1):     \n",
    "    count = count+1\n",
    "    print(count) \n",
    "    break\n",
    "else: \n",
    "    print(\"No Break\")"
   ]
  },
  {
   "cell_type": "markdown",
   "metadata": {},
   "source": [
    "### Best Practise 9 → **Using Ternary Opertor** - Ternary Opertor"
   ]
  },
  {
   "cell_type": "code",
   "execution_count": null,
   "metadata": {},
   "outputs": [],
   "source": [
    "    #Traditional\n",
    "    value = True\n",
    "    if value:\n",
    "        v = 1\n",
    "    else:\n",
    "        v = 0\n",
    "    print(v)\n",
    "\n",
    "    #Using ternary\n",
    "    value = True\n",
    "    v = 1 if value else 0\n",
    "    print(v)"
   ]
  }
 ],
 "metadata": {
  "kernelspec": {
   "display_name": "Python 3.7.4 64-bit",
   "language": "python",
   "name": "python37464bit39c74271cb9548abbf589c6e4063c2d3"
  },
  "language_info": {
   "codemirror_mode": {
    "name": "ipython",
    "version": 3
   },
   "file_extension": ".py",
   "mimetype": "text/x-python",
   "name": "python",
   "nbconvert_exporter": "python",
   "pygments_lexer": "ipython3",
   "version": "3.7.4"
  }
 },
 "nbformat": 4,
 "nbformat_minor": 4
}
